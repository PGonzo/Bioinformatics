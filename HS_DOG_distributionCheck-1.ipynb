{
 "cells": [
  {
   "cell_type": "code",
   "execution_count": null,
   "metadata": {},
   "outputs": [],
   "source": [
    "import numpy as np\n",
    "import pandas as pd\n",
    "import matplotlib.pyplot as plt\n",
    "from scipy import stats\n",
    "import seaborn as sns\n",
    "%matplotlib inline"
   ]
  },
  {
   "cell_type": "code",
   "execution_count": 3,
   "metadata": {},
   "outputs": [
    {
     "name": "stdout",
     "output_type": "stream",
     "text": [
      "<class 'pandas.core.frame.DataFrame'>\n",
      "RangeIndex: 487 entries, 0 to 486\n",
      "Data columns (total 28 columns):\n",
      "gene_id_name                487 non-null object\n",
      "gene_biotype_name           487 non-null object\n",
      "TYPE                        487 non-null object\n",
      "chr                         487 non-null object\n",
      "strand                      487 non-null object\n",
      "DOG_length                  487 non-null int64\n",
      "DOG_start_local             487 non-null int64\n",
      "DOG_end_local               487 non-null int64\n",
      "DOG_start_meta              487 non-null int64\n",
      "DOG_end_meta                487 non-null int64\n",
      "DOG_from_downstream_gene    487 non-null object\n",
      "DOG_from_upstream_gene      487 non-null object\n",
      "DOG_into_downstream_gene    487 non-null object\n",
      "POG_into_upstream_gene      487 non-null object\n",
      "padj                        439 non-null float64\n",
      "baseMean                    487 non-null float64\n",
      "pvalue                      487 non-null float64\n",
      "log2FoldChange              487 non-null float64\n",
      "lfcSE                       487 non-null float64\n",
      "stat                        487 non-null float64\n",
      "source                      487 non-null object\n",
      "length                      487 non-null int64\n",
      "left_int_length             487 non-null float64\n",
      "right_int_length            487 non-null float64\n",
      "sample_name                 487 non-null object\n",
      "start                       487 non-null int64\n",
      "end                         487 non-null int64\n",
      "type                        487 non-null object\n",
      "dtypes: float64(8), int64(8), object(12)\n",
      "memory usage: 106.6+ KB\n"
     ]
    }
   ],
   "source": [
    "#read in combined DOG csv from DOG algorithm\n",
    "df = pd.read_csv(\"/Users/patrickgonzales/desktop/Linklab/Heatshock/combined_DOG.csv\", sep=\"\\t\")\n",
    "df.info()"
   ]
  },
  {
   "cell_type": "code",
   "execution_count": 5,
   "metadata": {},
   "outputs": [
    {
     "name": "stdout",
     "output_type": "stream",
     "text": [
      "Sigdiff up in HS: DOG-length stats\n",
      " count       97.000000\n",
      "mean      1227.835052\n",
      "std       2213.299868\n",
      "min        200.000000\n",
      "25%        300.000000\n",
      "50%        400.000000\n",
      "75%        900.000000\n",
      "max      10800.000000\n",
      "Name: DOG_length, dtype: float64\n",
      "\n",
      "Sigdiff up in Control: DOG-length stats\n",
      " count       29.000000\n",
      "mean      1727.586207\n",
      "std       3199.095469\n",
      "min        200.000000\n",
      "25%        200.000000\n",
      "50%        300.000000\n",
      "75%        900.000000\n",
      "max      12100.000000\n",
      "Name: DOG_length, dtype: float64\n",
      "\n",
      "Not significantly different: DOG-length stats:\n",
      " count      313.000000\n",
      "mean      1279.872204\n",
      "std       2687.914068\n",
      "min        200.000000\n",
      "25%        200.000000\n",
      "50%        400.000000\n",
      "75%        800.000000\n",
      "max      23100.000000\n",
      "Name: DOG_length, dtype: float64\n"
     ]
    }
   ],
   "source": [
    "# make dataframe subsets based on adjusted p values and fold change\n",
    "# to test if the distribution of the length of DOGs are significantly different.\n",
    "df_sigdiff = df[df['padj']<=0.05]\n",
    "df_sigdiff_upHS = df_sigdiff[df_sigdiff['log2FoldChange']>0]\n",
    "df_sigdiff_control = df_sigdiff[df_sigdiff['log2FoldChange']<0]\n",
    "df_NOT_sigdiff = df[df['padj']>0.05]\n",
    "\n",
    "#take a look at descriptive stats\n",
    "print(\"Sigdiff up in HS: DOG-length stats\\n\",df_sigdiff_upHS['DOG_length'].describe())\n",
    "print(\"\\nSigdiff up in Control: DOG-length stats\\n\",df_sigdiff_control['DOG_length'].describe())\n",
    "print(\"\\nNot significantly different: DOG-length stats:\\n\",df_NOT_sigdiff['DOG_length'].describe())"
   ]
  },
  {
   "cell_type": "markdown",
   "metadata": {},
   "source": [
    "#### All three groups have a mean that is ~3 fold greater than the value at the 50th perentile- indicating right-skewed data. Need to visualize the data with a histrogram."
   ]
  },
  {
   "cell_type": "code",
   "execution_count": 9,
   "metadata": {},
   "outputs": [
    {
     "data": {
      "image/png": "[encoded data removed]",
      "text/plain": [
       "<Figure size 1440x360 with 3 Axes>"
      ]
     },
     "metadata": {
      "needs_background": "light"
     },
     "output_type": "display_data"
    }
   ],
   "source": [
    "#plot histograms with mean(solid) and standard deviation (dashed) lines for three dataframes.\n",
    "#is distribution normal?\n",
    "plt.figure(figsize=(20, 5))\n",
    "\n",
    "plt.subplot(1, 3, 1)\n",
    "plt.hist(df_NOT_sigdiff['DOG_length'], bins=30, edgecolor='black',linewidth=0.5, color='teal', alpha=0.8)\n",
    "plt.axvline(df_NOT_sigdiff['DOG_length'].mean(), color=\"black\",linestyle='solid', linewidth=3)\n",
    "plt.axvline(df_NOT_sigdiff['DOG_length'].mean() + df_NOT_sigdiff['DOG_length'].std(), color=\"black\", linestyle=\"dashed\", linewidth=3)\n",
    "plt.axvline(df_NOT_sigdiff['DOG_length'].mean() - df_NOT_sigdiff['DOG_length'].std(),color=\"black\", linestyle='dashed', linewidth=3)\n",
    "plt.ylabel('# of DOGs')\n",
    "plt.xlabel('length of DOG')\n",
    "plt.title('Distribution of DOG length: P value greater than 0.05')\n",
    "\n",
    "plt.subplot(1, 3, 2)\n",
    "plt.hist(df_sigdiff_upHS['DOG_length'], bins=30, edgecolor='black',linewidth=0.5, color='teal', alpha=0.8)\n",
    "plt.axvline(df_sigdiff_upHS['DOG_length'].mean(), color='black', linestyle='solid', linewidth=3)\n",
    "plt.axvline(df_sigdiff_upHS['DOG_length'].mean() + df_sigdiff_upHS['DOG_length'].std(), color='black', linestyle='dashed', linewidth=3)\n",
    "plt.axvline(df_sigdiff_upHS['DOG_length'].mean() - df_sigdiff_upHS['DOG_length'].std(), color='black', linestyle='dashed', linewidth=3)\n",
    "plt.ylabel('# of DOGs')\n",
    "plt.xlabel('length of DOG')\n",
    "plt.title('Distribution of DOG length in DOGs significantly increased in HS')\n",
    "\n",
    "plt.subplot(1, 3, 3)\n",
    "plt.hist(df_sigdiff_control['DOG_length'], bins=30, edgecolor='black',linewidth=0.5, color='teal', alpha=0.8)\n",
    "plt.axvline(df_sigdiff_control['DOG_length'].mean(), color='black', linestyle='solid', linewidth=3)\n",
    "plt.axvline(df_sigdiff_control['DOG_length'].mean() + df_sigdiff_control['DOG_length'].std(), color='black', linestyle='dashed', linewidth=3)\n",
    "plt.axvline(df_sigdiff_control['DOG_length'].mean() - df_sigdiff_control['DOG_length'].std(), color='black', linestyle='dashed', linewidth=3)\n",
    "plt.ylabel('# of DOGs')\n",
    "plt.xlabel('length of DOG')\n",
    "plt.title('Distribution of DOG length in DOGs significantly increased in Controls')\n",
    "plt.tight_layout()\n",
    "plt.show()"
   ]
  },
  {
   "cell_type": "code",
   "execution_count": 10,
   "metadata": {
    "scrolled": true
   },
   "outputs": [
    {
     "name": "stdout",
     "output_type": "stream",
     "text": [
      "Not sigdiff vs Up in Control:\n",
      " RanksumsResult(statistic=-0.01963235485269349, pvalue=0.9843366533628995)\n",
      "\n",
      "Not sigdiff vs Up in HS:\n",
      " RanksumsResult(statistic=-1.2797413060803515, pvalue=0.20063613229478106)\n",
      "\n",
      "Up in Control vs Up in HS:\n",
      " RanksumsResult(statistic=-0.6896851226943121, pvalue=0.4903922236437549)\n"
     ]
    }
   ],
   "source": [
    "# distribution is not normal- use non-parametric test. \n",
    "#Use Wilcoxon-rank sum test to test if the two groups are drawn from same distribution\n",
    "# similar to T-test but for non-parametric data.\n",
    "print(\"Not sigdiff vs Up in Control:\\n\",stats.ranksums(df_NOT_sigdiff['DOG_length'], df_sigdiff_control['DOG_length']))\n",
    "print(\"\\nNot sigdiff vs Up in HS:\\n\",stats.ranksums(df_NOT_sigdiff['DOG_length'], df_sigdiff_upHS['DOG_length']))\n",
    "print(\"\\nUp in Control vs Up in HS:\\n\",stats.ranksums(df_sigdiff_control['DOG_length'], df_sigdiff_upHS['DOG_length']))"
   ]
  },
  {
   "cell_type": "markdown",
   "metadata": {
    "collapsed": true
   },
   "source": [
    "#### None of the three comparisons have a P value < 0.05. Therefore we accept the  null hypoothesis that the distributions are the same. "
   ]
  }
 ],
 "metadata": {
  "kernelspec": {
   "display_name": "Python 3",
   "language": "python",
   "name": "python3"
  },
  "language_info": {
   "codemirror_mode": {
    "name": "ipython",
    "version": 3
   },
   "file_extension": ".py",
   "mimetype": "text/x-python",
   "name": "python",
   "nbconvert_exporter": "python",
   "pygments_lexer": "ipython3",
   "version": "3.7.0"
  }
 },
 "nbformat": 4,
 "nbformat_minor": 2
}
